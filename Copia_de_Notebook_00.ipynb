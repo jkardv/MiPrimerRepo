{
  "nbformat": 4,
  "nbformat_minor": 0,
  "metadata": {
    "colab": {
      "provenance": [],
      "authorship_tag": "ABX9TyNT3x4I7Vl2xTALvttjyR/J",
      "include_colab_link": true
    },
    "kernelspec": {
      "name": "python3",
      "display_name": "Python 3"
    },
    "language_info": {
      "name": "python"
    }
  },
  "cells": [
    {
      "cell_type": "markdown",
      "metadata": {
        "id": "view-in-github",
        "colab_type": "text"
      },
      "source": [
        "<a href=\"https://colab.research.google.com/github/jkardv/MiPrimerRepo/blob/main/Copia_de_Notebook_00.ipynb\" target=\"_parent\"><img src=\"https://colab.research.google.com/assets/colab-badge.svg\" alt=\"Open In Colab\"/></a>"
      ]
    },
    {
      "cell_type": "code",
      "execution_count": null,
      "metadata": {
        "id": "TJH2bTQB5pzZ"
      },
      "outputs": [],
      "source": [
        "import this"
      ]
    },
    {
      "cell_type": "code",
      "source": [
        "ciudades = [\"Málaga\",\"Valencia\", \"Sevilla\",\"Barcelona\",\"Gijón\",\"Bilbao\",\"Zaragoza\",\"Madrid\",\"Murcia\",\"A Coruña\"]\n",
        "\n",
        "print(ciudades)"
      ],
      "metadata": {
        "colab": {
          "base_uri": "https://localhost:8080/"
        },
        "id": "-CqikpaJ6kvB",
        "outputId": "3b456871-52c4-4ac2-a9e9-965b1ff310dd"
      },
      "execution_count": null,
      "outputs": [
        {
          "output_type": "stream",
          "name": "stdout",
          "text": [
            "['Málaga', 'Valencia', 'Sevilla', 'Barcelona', 'Gijón', 'Bilbao', 'Zaragoza', 'Madrid', 'Murcia', 'A Coruña']\n"
          ]
        }
      ]
    },
    {
      "cell_type": "code",
      "source": [
        "artistas = [\"Rosalía\",\"Enrique Iglesias\",\"Alejandro Sanz\", \"Karol G\",\"Aitana\",\"Pablo Alborán\",\"David Bisbal\", \"India Martínez\",\"Estopa\",\"Lola Índigo\" ]\n",
        "\n",
        "print(artistas)"
      ],
      "metadata": {
        "colab": {
          "base_uri": "https://localhost:8080/"
        },
        "id": "ezqOjtuI9Nwx",
        "outputId": "5a6e1b17-28a5-4975-a5bc-ddc7c7259bda"
      },
      "execution_count": null,
      "outputs": [
        {
          "output_type": "stream",
          "name": "stdout",
          "text": [
            "['Rosalía', 'Enrique Iglesias', 'Alejandro Sanz', 'Karol G', 'Aitana', 'Pablo Alborán', 'David Bisbal', 'India Martínez', 'Estopa', 'Lola Índigo']\n"
          ]
        }
      ]
    },
    {
      "cell_type": "code",
      "source": [
        "actuaciones = dict(zip(artistas,ciudades))\n",
        "print(actuaciones)"
      ],
      "metadata": {
        "colab": {
          "base_uri": "https://localhost:8080/"
        },
        "id": "FKKoSmtq-zoc",
        "outputId": "3cd59b6c-7da9-403a-d1cf-e1c6d6ac8721"
      },
      "execution_count": null,
      "outputs": [
        {
          "output_type": "stream",
          "name": "stdout",
          "text": [
            "{'Rosalía': 'Málaga', 'Enrique Iglesias': 'Valencia', 'Alejandro Sanz': 'Sevilla', 'Karol G': 'Barcelona', 'Aitana': 'Gijón', 'Pablo Alborán': 'Bilbao', 'David Bisbal': 'Zaragoza', 'India Martínez': 'Madrid', 'Estopa': 'Murcia', 'Lola Índigo': 'A Coruña'}\n"
          ]
        }
      ]
    },
    {
      "cell_type": "code",
      "source": [
        "print(\"Estos son los conciertos para esta semana: \")\n",
        "for artista in actuaciones:\n",
        "  print(artista, \"actua en: \",actuaciones[artista])"
      ],
      "metadata": {
        "id": "Z2v6sPWhACT2"
      },
      "execution_count": null,
      "outputs": []
    },
    {
      "cell_type": "code",
      "source": [
        "ciudades2 = ciudades[-1:] + ciudades[:-1]\n",
        "\n",
        "actuaciones2 = dict(zip(artistas, ciudades2))\n",
        "\n",
        "print(\"Rotación de ciudades:\")\n",
        "for artista in actuaciones2:\n",
        "    print(artista, \"actua en:\" ,actuaciones2[artista])\n",
        "\n"
      ],
      "metadata": {
        "colab": {
          "base_uri": "https://localhost:8080/"
        },
        "id": "xFjAmdCPBaya",
        "outputId": "a97fce61-ea08-49d3-eedd-00bb593c9464"
      },
      "execution_count": null,
      "outputs": [
        {
          "output_type": "stream",
          "name": "stdout",
          "text": [
            "Rotación de ciudades:\n",
            "Rosalía actua en: A Coruña\n",
            "Enrique Iglesias actua en: Málaga\n",
            "Alejandro Sanz actua en: Valencia\n",
            "Karol G actua en: Sevilla\n",
            "Aitana actua en: Barcelona\n",
            "Pablo Alborán actua en: Gijón\n",
            "David Bisbal actua en: Bilbao\n",
            "India Martínez actua en: Zaragoza\n",
            "Estopa actua en: Madrid\n",
            "Lola Índigo actua en: Murcia\n"
          ]
        }
      ]
    }
  ]
}